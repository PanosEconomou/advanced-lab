{
 "cells": [
  {
   "cell_type": "markdown",
   "metadata": {},
   "source": [
    "# *Optical Tweezers* | Lab-Session #0\n",
    "## Feb-22-2021 13:45\n",
    "\n",
    "This jupyter notebook is a used to collect and analyse data during today's lab session"
   ]
  },
  {
   "cell_type": "code",
   "execution_count": 2,
   "metadata": {},
   "outputs": [],
   "source": [
    "# Import the relevant libraries\n",
    "import pandas as pd\n",
    "import numpy as np \n",
    "import matplotlib.pyplot as plt \n",
    "import scipy.constants as consts\n",
    "import os\n",
    "from csvlib import *\n",
    "from scipy.optimize import curve_fit\n",
    "\n",
    "# Display mpl in notebook format\n",
    "%matplotlib inline"
   ]
  },
  {
   "cell_type": "markdown",
   "metadata": {},
   "source": [
    "# Data Collection"
   ]
  },
  {
   "cell_type": "code",
   "execution_count": 3,
   "metadata": {},
   "outputs": [
    {
     "name": "stdout",
     "output_type": "stream",
     "text": [
      "List of .csv files in .\n",
      "\t 0 : FEB-22-2021-DRAG (root).csv\n",
      "\t 1 : TRP_Drag_100_10_1.csv\n",
      "\t 2 : TRP_Drag_100_10_2.csv\n",
      "\t 3 : TRP_Drag_150_10_1.csv\n",
      "\t 4 : TRP_Drag_150_10_2.csv\n",
      "\t 5 : TRP_Drag_200_10_1.csv\n",
      "\t 6 : TRP_Drag_200_10_2 #1.csv\n",
      "\t 7 : TRP_Drag_200_10_2.csv\n",
      "\t 8 : TRP_Drag_250_10_1.csv\n",
      "\t 9 : TRP_Drag_250_10_2.csv\n",
      "\t 10 : TRP_Drag_50_10_1.csv\n",
      "\t 11 : TRP_Drag_50_10_2 #1.csv\n",
      "\t 12 : TRP_Drag_50_10_2.csv\n",
      "\t 13 : TRP_Drag_Y_100_10_1.csv\n",
      "\t 14 : TRP_Drag_Y_100_10_2.csv\n",
      "\t 15 : TRP_Drag_Y_150_10_1.csv\n",
      "\t 16 : TRP_Drag_Y_150_10_2.csv\n",
      "\t 17 : TRP_Drag_Y_200_10_1.csv\n",
      "\t 18 : TRP_Drag_Y_200_10_2.csv\n",
      "\t 19 : TRP_Drag_Y_250_10_1 #1.csv\n",
      "\t 20 : TRP_Drag_Y_250_10_1.csv\n",
      "\t 21 : TRP_Drag_Y_250_10_2.csv\n",
      "\t 22 : TRP_Drag_Y_50_10_1.csv\n",
      "\t 23 : TRP_Drag_Y_50_10_2.csv\n",
      "\t 24 : data.csv\n"
     ]
    }
   ],
   "source": [
    "# open CSV files to numpy array\n",
    "csvs = list_csv(PRINT='True')   # Lists CSV files in a given directory\n",
    "indx = 1\n",
    "DATA = pd.read_csv(csvs[indx])     # Gets the CSV file as a Pandas Data Frame\n",
    "data = DATA.to_numpy().T        # Gets data as a numpy array\n",
    "DATA                            # Prints pretty PANDAS data frame\n",
    "\n",
    "x = data[0]\n",
    "y = data[1]\n",
    "z = data[2]\n",
    "\n",
    "stg_x = data[3]\n",
    "stg_y = data[4]\n",
    "\n",
    "t = np.linspace(0,5,len(x))"
   ]
  },
  {
   "cell_type": "markdown",
   "metadata": {},
   "source": [
    "# Data Analysis"
   ]
  },
  {
   "cell_type": "code",
   "execution_count": 5,
   "metadata": {},
   "outputs": [
    {
     "data": {
      "text/plain": [
       "[<matplotlib.lines.Line2D at 0x1244ea160>,\n",
       " <matplotlib.lines.Line2D at 0x1244ea190>]"
      ]
     },
     "execution_count": 5,
     "metadata": {},
     "output_type": "execute_result"
    },
    {
     "data": {
      "image/png": "[encoded data removed]",
      "text/plain": [
       "<Figure size 432x288 with 1 Axes>"
      ]
     },
     "metadata": {
      "needs_background": "light"
     },
     "output_type": "display_data"
    }
   ],
   "source": [
    "plt.plot(t,x,'.')\n",
    "\n",
    "plt.xlim(0,0.25)\n",
    "\n",
    "max_x = max(x)\n",
    "min_x = min(x)\n",
    "\n",
    "max_plot = np.repeat(max_x,len(x))\n",
    "min_plot = np.repeat(min_x,len(x))\n",
    "\n",
    "plt.plot(t,max_plot,t,min_plot)"
   ]
  },
  {
   "cell_type": "code",
   "execution_count": null,
   "metadata": {},
   "outputs": [],
   "source": [
    "# Data fitting\n",
    "# let's get some data x,y\n",
    "Npts = 1000\n",
    "x = np.linspace(0,10,Npts)\n",
    "y = 3*np.sin(2*x) + 4 + np.random.normal(0,1,Npts)\n",
    "\n",
    "# Example of trying to fit a function with 3 parameters \n",
    "def fit(x,a,b,c):\n",
    "    return a*np.sin(b*x) + c\n",
    "\n",
    "params, _ = curve_fit(fit,x,y,bounds=(0,(4,4,6)))\n",
    "\n",
    "# Define the figure and plot parameters\n",
    "fig = plt.figure(figsize=(12,8))\n",
    "ax = fig.add_subplot(111)\n",
    "ax.set_title('A PLOT',fontsize=17)\n",
    "ax.set_xlabel('x-axis [Au]',fontsize=15)\n",
    "ax.set_ylabel('y-axis [Au]',fontsize=15)\n",
    "\n",
    "# Plot the actual elements\n",
    "ax.scatter(x,y,color = 'C2',s = 7, marker = 'o',label='Experimental Data')\n",
    "ax.plot(x,fit(x,*params), color = 'black', lw = 2, label='Fit: a=%5.3f, b=%5.3f c=%5.3f'%tuple(params))\n",
    "\n",
    "ax.legend(fontsize = 10)\n",
    "ax.grid()"
   ]
  }
 ],
 "metadata": {
  "kernelspec": {
   "display_name": "Python 3",
   "language": "python",
   "name": "python3"
  },
  "language_info": {
   "codemirror_mode": {
    "name": "ipython",
    "version": 3
   },
   "file_extension": ".py",
   "mimetype": "text/x-python",
   "name": "python",
   "nbconvert_exporter": "python",
   "pygments_lexer": "ipython3",
   "version": "3.8.3"
  }
 },
 "nbformat": 4,
 "nbformat_minor": 2
}
