{
 "cells": [
  {
   "cell_type": "markdown",
   "metadata": {},
   "source": [
    "# *Faraday Rotation* | Lab-Session #2\n",
    "## Mar-01-2021 13:45\n",
    "\n",
    "This jupyter notebook is a used to collect and analyse data during today's lab session"
   ]
  },
  {
   "cell_type": "code",
   "execution_count": 1,
   "metadata": {},
   "outputs": [],
   "source": [
    "# Import the relevant libraries\n",
    "import pandas as pd\n",
    "import numpy as np \n",
    "import matplotlib.pyplot as plt \n",
    "import scipy.constants as consts\n",
    "import os\n",
    "from csvlib import *\n",
    "from scipy.optimize import curve_fit\n",
    "\n",
    "# Display mpl in notebook format\n",
    "%matplotlib inline"
   ]
  },
  {
   "cell_type": "markdown",
   "metadata": {},
   "source": [
    "# Data Collection"
   ]
  },
  {
   "cell_type": "code",
   "execution_count": 2,
   "metadata": {
    "scrolled": true
   },
   "outputs": [
    {
     "name": "stdout",
     "output_type": "stream",
     "text": [
      "List of .csv files in .\n",
      "\t 0 : DC_VERDET_ROD.csv\n",
      "\t 1 : DC_VERDET_ROD_edited.csv\n"
     ]
    },
    {
     "data": {
      "text/html": [
       "<div>\n",
       "<style scoped>\n",
       "    .dataframe tbody tr th:only-of-type {\n",
       "        vertical-align: middle;\n",
       "    }\n",
       "\n",
       "    .dataframe tbody tr th {\n",
       "        vertical-align: top;\n",
       "    }\n",
       "\n",
       "    .dataframe thead th {\n",
       "        text-align: right;\n",
       "    }\n",
       "</style>\n",
       "<table border=\"1\" class=\"dataframe\">\n",
       "  <thead>\n",
       "    <tr style=\"text-align: right;\">\n",
       "      <th></th>\n",
       "      <th>I [mA]</th>\n",
       "      <th>I_std [_A]</th>\n",
       "      <th>V0 [mV]</th>\n",
       "      <th>V0_std [_V]</th>\n",
       "      <th>V1 [mV]</th>\n",
       "      <th>V1_std [_V]</th>\n",
       "    </tr>\n",
       "  </thead>\n",
       "  <tbody>\n",
       "    <tr>\n",
       "      <th>0</th>\n",
       "      <td>300.95</td>\n",
       "      <td>11</td>\n",
       "      <td>75.142</td>\n",
       "      <td>206</td>\n",
       "      <td>75.895</td>\n",
       "      <td>201</td>\n",
       "    </tr>\n",
       "    <tr>\n",
       "      <th>1</th>\n",
       "      <td>600.33</td>\n",
       "      <td>13</td>\n",
       "      <td>75.265</td>\n",
       "      <td>199</td>\n",
       "      <td>76.855</td>\n",
       "      <td>131</td>\n",
       "    </tr>\n",
       "    <tr>\n",
       "      <th>2</th>\n",
       "      <td>900.13</td>\n",
       "      <td>27</td>\n",
       "      <td>75.314</td>\n",
       "      <td>148</td>\n",
       "      <td>77.818</td>\n",
       "      <td>103</td>\n",
       "    </tr>\n",
       "    <tr>\n",
       "      <th>3</th>\n",
       "      <td>1200.10</td>\n",
       "      <td>118</td>\n",
       "      <td>75.273</td>\n",
       "      <td>96</td>\n",
       "      <td>78.665</td>\n",
       "      <td>125</td>\n",
       "    </tr>\n",
       "    <tr>\n",
       "      <th>4</th>\n",
       "      <td>1499.90</td>\n",
       "      <td>111</td>\n",
       "      <td>75.458</td>\n",
       "      <td>107</td>\n",
       "      <td>79.573</td>\n",
       "      <td>113</td>\n",
       "    </tr>\n",
       "    <tr>\n",
       "      <th>5</th>\n",
       "      <td>1799.50</td>\n",
       "      <td>156</td>\n",
       "      <td>75.686</td>\n",
       "      <td>113</td>\n",
       "      <td>80.819</td>\n",
       "      <td>121</td>\n",
       "    </tr>\n",
       "    <tr>\n",
       "      <th>6</th>\n",
       "      <td>2097.60</td>\n",
       "      <td>230</td>\n",
       "      <td>75.764</td>\n",
       "      <td>77</td>\n",
       "      <td>81.860</td>\n",
       "      <td>96</td>\n",
       "    </tr>\n",
       "  </tbody>\n",
       "</table>\n",
       "</div>"
      ],
      "text/plain": [
       "    I [mA]  I_std [_A]  V0 [mV]  V0_std [_V]  V1 [mV]  V1_std [_V]\n",
       "0   300.95          11   75.142          206   75.895          201\n",
       "1   600.33          13   75.265          199   76.855          131\n",
       "2   900.13          27   75.314          148   77.818          103\n",
       "3  1200.10         118   75.273           96   78.665          125\n",
       "4  1499.90         111   75.458          107   79.573          113\n",
       "5  1799.50         156   75.686          113   80.819          121\n",
       "6  2097.60         230   75.764           77   81.860           96"
      ]
     },
     "execution_count": 2,
     "metadata": {},
     "output_type": "execute_result"
    }
   ],
   "source": [
    "# open CSV files to numpy array\n",
    "csvs = list_csv(PRINT='True')   # Lists CSV files in a given directory\n",
    "DATA = pd.read_csv(csvs[1])     # Gets the CSV file as a Pandas Data Frame\n",
    "data = DATA.to_numpy().T        # Gets data as a numpy array\n",
    "DATA                            # Prints pretty PANDAS data frame"
   ]
  },
  {
   "cell_type": "markdown",
   "metadata": {},
   "source": [
    "# Data Analysis"
   ]
  },
  {
   "cell_type": "code",
   "execution_count": 21,
   "metadata": {},
   "outputs": [
    {
     "name": "stdout",
     "output_type": "stream",
     "text": [
      "[-1.99784195 -1.995556   -1.9931804  -1.99097888 -1.98929121 -1.98703335\n",
      " -1.98499778]\n",
      "[0.00197341 0.00189892 0.00143924 0.00098989 0.00109521 0.00117764\n",
      " 0.00082812]\n"
     ]
    }
   ],
   "source": [
    "# parameters from LAB on malus\n",
    "theta = -0.068\n",
    "theta_std = 0.00305\n",
    "V0 = 0.201\n",
    "V0_std = 0.00058\n",
    "\n",
    "# parameters from setup\n",
    "L = 10.174*1e-2\n",
    "L_std = 0.005*1e-2\n",
    "k = 0.011\n",
    "\n",
    "\n",
    "# magnetic field from current data\n",
    "B = k*data[0]*1e-3\n",
    "B_std = k*data[1]*1e-6\n",
    "\n",
    "# voltage from data\n",
    "Vi = data[2]*1e-3\n",
    "Vi_std = data[3]*1e-6\n",
    "Vf = data[4]*1e-3\n",
    "Vf_std = data[5]*1e-6\n",
    "\n",
    "# angle of polarizer\n",
    "alpha = 40*np.pi/180\n",
    "alpha_std = 0.05*np.pi/180\n",
    "\n",
    "\n",
    "#print(data[0])\n",
    "\n",
    "phi = np.abs(-alpha - theta + np.arccos(np.cos(alpha+theta)*np.sqrt(Vf/Vi)))\n",
    "\n",
    "df_dangle = -1-np.sqrt(Vf/Vi)*np.sin(alpha+theta)/np.sqrt(np.sqrt(Vf/Vi)-np.cos(alpha+theta)**2)\n",
    "print(df_dangle)\n",
    "df_dVi = 0.5*np.cos(alpha+theta)*np.sqrt(Vf/(Vi**3-Vf*Vi**2*np.cos(alpha+theta)**2))\n",
    "df_dVf = df_dVi*np.sqrt(Vi**2/Vf)\n",
    "\n",
    "sigma_phi = np.sqrt((df_dangle*(alpha_std**2+theta_std**2))**2+(Vi_std*df_dVi)**2+(Vf_std*df_dVf)**2)\n",
    "print(sigma_phi)\n"
   ]
  },
  {
   "cell_type": "code",
   "execution_count": 22,
   "metadata": {},
   "outputs": [
    {
     "name": "stdout",
     "output_type": "stream",
     "text": [
      "[20.44381333 21.6609786  22.8028777  23.25019713 22.56847434 23.47828039\n",
      " 23.98132969]\n",
      "[5.85919811 2.82640366 1.42875541 0.73712036 0.65254893 0.58487373\n",
      " 0.35296202]\n"
     ]
    }
   ],
   "source": [
    "Verd = np.abs(phi/(B*L))\n",
    "Verd_std = np.abs(Verd*np.sqrt((sigma_phi/phi)**2+(L_std/L)**2))\n",
    "print(Verd)\n",
    "print(Verd_std)"
   ]
  },
  {
   "cell_type": "code",
   "execution_count": 23,
   "metadata": {},
   "outputs": [
    {
     "data": {
      "text/plain": [
       "[<matplotlib.lines.Line2D at 0x12a122640>]"
      ]
     },
     "execution_count": 23,
     "metadata": {},
     "output_type": "execute_result"
    },
    {
     "data": {
      "image/png": "[encoded data removed]",
      "text/plain": [
       "<Figure size 432x288 with 1 Axes>"
      ]
     },
     "metadata": {
      "needs_background": "light"
     },
     "output_type": "display_data"
    }
   ],
   "source": [
    "plt.plot(B,Verd,'.')\n"
   ]
  },
  {
   "cell_type": "code",
   "execution_count": 35,
   "metadata": {},
   "outputs": [
    {
     "name": "stdout",
     "output_type": "stream",
     "text": [
      "22.597993026816198\n",
      "[0.00033681 0.00067185 0.00100737 0.00134308 0.0016786  0.00201389\n",
      " 0.00234751]\n"
     ]
    },
    {
     "data": {
      "image/png": "[encoded data removed]",
      "text/plain": [
       "<Figure size 864x576 with 1 Axes>"
      ]
     },
     "metadata": {
      "needs_background": "light"
     },
     "output_type": "display_data"
    }
   ],
   "source": [
    "# Data fitting\n",
    "\n",
    "# x = theta\n",
    "# x_err = error from scale on polarizer \n",
    "# xlin = equidistanced x array to plot the fit \n",
    "\n",
    "# y = voltage\n",
    "# y_err = std dev of voltage (from oscilloscope)\n",
    "\n",
    "x = B*L\n",
    "x_err = np.sqrt((B*L_std)**2+(B_std*L)**2)\n",
    "\n",
    "Npts = 1000\n",
    "xlin = np.linspace(x[0],x[-1],Npts)\n",
    "\n",
    "y = phi\n",
    "y_err = sigma_phi\n",
    "\n",
    "\n",
    "# Fit data with a line\n",
    "def fit(x,a):\n",
    "    return a*x\n",
    "\n",
    "params, pcov = curve_fit(fit,x,y,p0=[24.3516956])\n",
    "\n",
    "\n",
    "#err = [np.sqrt(pcov[0][0]),np.sqrt(pcov[1][1])]\n",
    "\n",
    "# Define the figure and plot parameters\n",
    "fig = plt.figure(figsize=(12,8))\n",
    "ax = fig.add_subplot(111)\n",
    "ax.set_title('Verdet constant of SF-57 Glass Rod',fontsize=17)\n",
    "ax.set_xlabel('BL [Tm]',fontsize=15)\n",
    "ax.set_ylabel('Angle difference $\\Delta\\phi$ [rad]',fontsize=15)\n",
    "\n",
    "y_avg = fit(x,*params)\n",
    "y_line = line(x,*params_l)\n",
    "# Plot the actual elements\n",
    "ax.errorbar(x,y,yerr = y_err, xerr = x_err, color = 'C2',ms = 7, fmt = 'o',label='Calculated from Data')\n",
    "ax.plot(xlin,fit(xlin,*params), color = 'black', lw = 2,\n",
    "        label='Fitting: $\\Delta\\phi = VBL$\\n V=%5.3f$\\pm$%5.3f'%(params[0],np.sqrt(pcov)))\n",
    "#+'\\nb=%5.3f$\\pm$%5.3f'%(params[1],err[1])\n",
    "ax.legend(fontsize = 14,loc='best',frameon=False)\n",
    "print(np.sum(Verd)/len(Verd))\n",
    "# ax.grid()\n",
    "fig.savefig(\"verdet_DC.png\",dpi=300)\n",
    "slope = 1.671\n",
    "print(B*L)"
   ]
  },
  {
   "cell_type": "code",
   "execution_count": 34,
   "metadata": {},
   "outputs": [
    {
     "name": "stdout",
     "output_type": "stream",
     "text": [
      "15.562919152683765\n",
      "24.351695630454373 0.002529024521338727\n",
      "-0.0016836158437617537 3.79567187552396e-06\n"
     ]
    }
   ],
   "source": [
    "# fitting w/ fos lab\n",
    "# Error analysis\n",
    "def chi_s(x,y,y_err,est):\n",
    "    chi2 = 0\n",
    "    for i in range(len(x)):\n",
    "        chi2+= (y[i]-est(x[i]))**2/y_err[i]**2\n",
    "        \n",
    "    return chi2\n",
    "\n",
    "def a_cu(x,y,est):\n",
    "    chi2 = 0\n",
    "    for i in range(len(x)):\n",
    "        chi2+= (y[i]-est(x[i]))**2\n",
    "        \n",
    "    return chi2/(len(x)-2)\n",
    "\n",
    "def a_m(x,y,est):\n",
    "    ss = 0;\n",
    "    for xi in x: \n",
    "        ss+=xi**2\n",
    "        \n",
    "    s = 0\n",
    "    for xi in x:\n",
    "        s+=xi\n",
    "    s*=s\n",
    "    delta = len(x)*ss - s\n",
    "        \n",
    "    return a_cu(x,y,est)*(len(x)/delta)**0.5\n",
    "\n",
    "def a_c(x,y,est):\n",
    "    ss = 0;\n",
    "    for xi in x: \n",
    "        ss+=xi**2\n",
    "        \n",
    "    s = 0\n",
    "    for xi in x:\n",
    "        s+=xi\n",
    "    s*=s\n",
    "    delta = len(x)*ss - s\n",
    "        \n",
    "    return a_cu(x,y,est)*(ss/delta)**0.5\n",
    "\n",
    "fitt = lambda x: m*x \n",
    "\n",
    "# Get fit\n",
    "m, b = np.polyfit(x, y, 1)\n",
    "am = a_m(x,y,fitt)\n",
    "ac = a_c(x,y,fitt)\n",
    "chi = chi_s(x,y,y_err,fitt)\n",
    "print(chi)\n",
    "print(m,am)\n",
    "print(b,ac)"
   ]
  },
  {
   "cell_type": "code",
   "execution_count": 10,
   "metadata": {},
   "outputs": [
    {
     "name": "stdout",
     "output_type": "stream",
     "text": [
      "0.8990812431881828\n"
     ]
    }
   ],
   "source": [
    "#pearson correlation coefficient\n",
    "avg = np.sum((y-y_avg)**2)\n",
    "line = np.sum((y-y_line)**2)\n",
    "rsq = np.sqrt((avg-line)/avg)\n",
    "print(rsq)\n",
    "#DOF = N-2 = 5"
   ]
  },
  {
   "cell_type": "code",
   "execution_count": 11,
   "metadata": {},
   "outputs": [],
   "source": [
    "chi2_line = np.sum(((y-y_avg)/y_err)**2)\n",
    "chi2_avg = np.sum(((y-y_line)/y_err)**2)"
   ]
  },
  {
   "cell_type": "code",
   "execution_count": 12,
   "metadata": {},
   "outputs": [
    {
     "name": "stdout",
     "output_type": "stream",
     "text": [
      "18.67615929142036 1.852312257014362\n"
     ]
    }
   ],
   "source": [
    "print(chi2_line,chi2_avg)"
   ]
  },
  {
   "cell_type": "code",
   "execution_count": null,
   "metadata": {},
   "outputs": [],
   "source": []
  }
 ],
 "metadata": {
  "kernelspec": {
   "display_name": "Python 3",
   "language": "python",
   "name": "python3"
  },
  "language_info": {
   "codemirror_mode": {
    "name": "ipython",
    "version": 3
   },
   "file_extension": ".py",
   "mimetype": "text/x-python",
   "name": "python",
   "nbconvert_exporter": "python",
   "pygments_lexer": "ipython3",
   "version": "3.8.3"
  }
 },
 "nbformat": 4,
 "nbformat_minor": 2
}
