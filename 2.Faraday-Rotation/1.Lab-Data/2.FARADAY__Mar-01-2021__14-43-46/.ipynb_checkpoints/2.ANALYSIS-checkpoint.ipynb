{
 "cells": [
  {
   "cell_type": "markdown",
   "metadata": {},
   "source": [
    "# *Optical Tweezers* | Lab-Session #0\n",
    "## Jan-20-2021 13:45\n",
    "\n",
    "This jupyter notebook is a used to collect and analyse data during today's lab session"
   ]
  },
  {
   "cell_type": "code",
   "execution_count": 1,
   "metadata": {},
   "outputs": [],
   "source": [
    "# Import the relevant libraries\n",
    "import pandas as pd\n",
    "import numpy as np \n",
    "import matplotlib.pyplot as plt \n",
    "import scipy.constants as consts\n",
    "import os\n",
    "from csvlib import *\n",
    "from scipy.optimize import curve_fit\n",
    "\n",
    "# Display mpl in notebook format\n",
    "%matplotlib inline"
   ]
  },
  {
   "cell_type": "markdown",
   "metadata": {},
   "source": [
    "# Data Collection"
   ]
  },
  {
   "cell_type": "code",
   "execution_count": 2,
   "metadata": {
    "scrolled": true
   },
   "outputs": [
    {
     "name": "stdout",
     "output_type": "stream",
     "text": [
      "List of .csv files in .\n",
      "\t 0 : DC_VERDET_ROD.csv\n",
      "\t 1 : DC_VERDET_ROD_edited.csv\n"
     ]
    },
    {
     "data": {
      "text/html": [
       "<div>\n",
       "<style scoped>\n",
       "    .dataframe tbody tr th:only-of-type {\n",
       "        vertical-align: middle;\n",
       "    }\n",
       "\n",
       "    .dataframe tbody tr th {\n",
       "        vertical-align: top;\n",
       "    }\n",
       "\n",
       "    .dataframe thead th {\n",
       "        text-align: right;\n",
       "    }\n",
       "</style>\n",
       "<table border=\"1\" class=\"dataframe\">\n",
       "  <thead>\n",
       "    <tr style=\"text-align: right;\">\n",
       "      <th></th>\n",
       "      <th>I [mA]</th>\n",
       "      <th>I_std [_A]</th>\n",
       "      <th>V0 [mV]</th>\n",
       "      <th>V0_std [_V]</th>\n",
       "      <th>V1 [mV]</th>\n",
       "      <th>V1_std [_V]</th>\n",
       "    </tr>\n",
       "  </thead>\n",
       "  <tbody>\n",
       "    <tr>\n",
       "      <th>0</th>\n",
       "      <td>300.95</td>\n",
       "      <td>11</td>\n",
       "      <td>75.142</td>\n",
       "      <td>206</td>\n",
       "      <td>75.895</td>\n",
       "      <td>201</td>\n",
       "    </tr>\n",
       "    <tr>\n",
       "      <th>1</th>\n",
       "      <td>600.33</td>\n",
       "      <td>13</td>\n",
       "      <td>75.265</td>\n",
       "      <td>199</td>\n",
       "      <td>76.855</td>\n",
       "      <td>131</td>\n",
       "    </tr>\n",
       "    <tr>\n",
       "      <th>2</th>\n",
       "      <td>900.13</td>\n",
       "      <td>27</td>\n",
       "      <td>75.314</td>\n",
       "      <td>148</td>\n",
       "      <td>77.818</td>\n",
       "      <td>103</td>\n",
       "    </tr>\n",
       "    <tr>\n",
       "      <th>3</th>\n",
       "      <td>1200.10</td>\n",
       "      <td>118</td>\n",
       "      <td>75.273</td>\n",
       "      <td>96</td>\n",
       "      <td>78.665</td>\n",
       "      <td>125</td>\n",
       "    </tr>\n",
       "    <tr>\n",
       "      <th>4</th>\n",
       "      <td>1499.90</td>\n",
       "      <td>111</td>\n",
       "      <td>75.458</td>\n",
       "      <td>107</td>\n",
       "      <td>79.573</td>\n",
       "      <td>113</td>\n",
       "    </tr>\n",
       "    <tr>\n",
       "      <th>5</th>\n",
       "      <td>1799.50</td>\n",
       "      <td>156</td>\n",
       "      <td>75.686</td>\n",
       "      <td>113</td>\n",
       "      <td>80.819</td>\n",
       "      <td>121</td>\n",
       "    </tr>\n",
       "    <tr>\n",
       "      <th>6</th>\n",
       "      <td>2097.60</td>\n",
       "      <td>230</td>\n",
       "      <td>75.764</td>\n",
       "      <td>77</td>\n",
       "      <td>81.860</td>\n",
       "      <td>96</td>\n",
       "    </tr>\n",
       "  </tbody>\n",
       "</table>\n",
       "</div>"
      ],
      "text/plain": [
       "    I [mA]  I_std [_A]  V0 [mV]  V0_std [_V]  V1 [mV]  V1_std [_V]\n",
       "0   300.95          11   75.142          206   75.895          201\n",
       "1   600.33          13   75.265          199   76.855          131\n",
       "2   900.13          27   75.314          148   77.818          103\n",
       "3  1200.10         118   75.273           96   78.665          125\n",
       "4  1499.90         111   75.458          107   79.573          113\n",
       "5  1799.50         156   75.686          113   80.819          121\n",
       "6  2097.60         230   75.764           77   81.860           96"
      ]
     },
     "execution_count": 2,
     "metadata": {},
     "output_type": "execute_result"
    }
   ],
   "source": [
    "# open CSV files to numpy array\n",
    "csvs = list_csv(PRINT='True')   # Lists CSV files in a given directory\n",
    "DATA = pd.read_csv(csvs[1])     # Gets the CSV file as a Pandas Data Frame\n",
    "data = DATA.to_numpy().T        # Gets data as a numpy array\n",
    "DATA                            # Prints pretty PANDAS data frame"
   ]
  },
  {
   "cell_type": "markdown",
   "metadata": {},
   "source": [
    "# Data Analysis"
   ]
  },
  {
   "cell_type": "code",
   "execution_count": 3,
   "metadata": {},
   "outputs": [
    {
     "name": "stdout",
     "output_type": "stream",
     "text": [
      "[0.97706821 0.97214821 0.96722458 0.96290332 0.95828005 0.95195048\n",
      " 0.94667457]\n"
     ]
    }
   ],
   "source": [
    "# parameters from LAB on malus\n",
    "theta = -0.068\n",
    "theta_std = 0.00305\n",
    "V0 = 0.201\n",
    "V0_std = 0.00058\n",
    "\n",
    "# parameters from setup\n",
    "L = 10.174*1e-2\n",
    "L_std = 0.005*1e-2\n",
    "k = 0.011\n",
    "\n",
    "\n",
    "# magnetic field from current data\n",
    "B = k*data[0]*1e-3\n",
    "B_std = k*data[1]*1e-6\n",
    "\n",
    "# voltage from data\n",
    "Vi = data[2]*1e-3\n",
    "Vi_std = data[3]*1e-6\n",
    "Vf = data[4]*1e-3\n",
    "Vf_std = data[5]*1e-6\n",
    "# angle from voltage\n",
    "\n",
    "phi_0 = -theta + np.arccos(np.sqrt(Vi/V0))\n",
    "phi_0_std = np.sqrt(Vi_std**2+(V0_std**2)*((Vi/V0)**2))/np.sqrt(V0**2 - Vi**2)\n",
    "\n",
    "phi_1 = -theta + np.arccos(np.sqrt(Vf/V0))\n",
    "phi_1_std = np.sqrt(Vf_std**2+(V0_std**2)*((Vf/V0)**2))/np.sqrt(V0**2 - Vf**2)\n",
    "\n",
    "#angle difference\n",
    "delta_phi = np.abs(phi_1-phi_0)\n",
    "delta_phi_std = np.sqrt(phi_0_std**2+phi_1_std**2)\n",
    "print(phi_1)\n",
    "\n",
    "#print(delta_phi_std)\n",
    "\n",
    "#print(data[0])"
   ]
  },
  {
   "cell_type": "code",
   "execution_count": 4,
   "metadata": {},
   "outputs": [
    {
     "name": "stdout",
     "output_type": "stream",
     "text": [
      "[11.48341295 12.13862442 12.73330734 12.92488111 12.52939038 13.00489622\n",
      " 13.23358522]\n",
      "[6.72124407 3.12967017 1.92684409 1.41000866 1.13318199 0.96565783\n",
      " 0.79456789]\n"
     ]
    }
   ],
   "source": [
    "Verd = delta_phi/(B*L)\n",
    "Verd_std = delta_phi_std/(B*L)\n",
    "print(Verd)\n",
    "print(Verd_std)"
   ]
  },
  {
   "cell_type": "code",
   "execution_count": 5,
   "metadata": {},
   "outputs": [
    {
     "data": {
      "text/plain": [
       "(5.0, 15.0)"
      ]
     },
     "execution_count": 5,
     "metadata": {},
     "output_type": "execute_result"
    },
    {
     "data": {
      "image/png": "[encoded data removed]",
      "text/plain": [
       "<Figure size 432x288 with 1 Axes>"
      ]
     },
     "metadata": {
      "needs_background": "light"
     },
     "output_type": "display_data"
    }
   ],
   "source": [
    "plt.plot(B,Verd,'.')\n",
    "plt.ylim(5,15)"
   ]
  },
  {
   "cell_type": "code",
   "execution_count": 6,
   "metadata": {},
   "outputs": [
    {
     "data": {
      "text/plain": [
       "<matplotlib.legend.Legend at 0x7fd537df0b80>"
      ]
     },
     "execution_count": 6,
     "metadata": {},
     "output_type": "execute_result"
    },
    {
     "data": {
      "image/png": "[encoded data removed]",
      "text/plain": [
       "<Figure size 864x576 with 1 Axes>"
      ]
     },
     "metadata": {
      "needs_background": "light"
     },
     "output_type": "display_data"
    }
   ],
   "source": [
    "# Data fitting\n",
    "\n",
    "# x = theta\n",
    "# x_err = error from scale on polarizer \n",
    "# xlin = equidistanced x array to plot the fit \n",
    "\n",
    "# y = voltage\n",
    "# y_err = std dev of voltage (from oscilloscope)\n",
    "\n",
    "x = data[0]*np.pi/180\n",
    "x_err = [2.5*np.pi/180]*len(x)\n",
    "\n",
    "Npts = 1000\n",
    "xlin = np.linspace(x[0],x[-1],Npts)\n",
    "\n",
    "y = data[1]\n",
    "y_err = data[2]*1e-3 # from micro to mili volts\n",
    "\n",
    "\n",
    "# Fit data with Malus's law\n",
    "def fit(x,a,b,c):\n",
    "    return a*np.cos(b*x+c)**2\n",
    "\n",
    "#params, pcov = curve_fit(fit,x,y,p0=[3.2,1/(17*np.pi),0])\n",
    "\n",
    "params, pcov = curve_fit(fit,x,y,p0=[180,1,0])\n",
    "\n",
    "# Define the figure and plot parameters\n",
    "fig = plt.figure(figsize=(12,8))\n",
    "ax = fig.add_subplot(111)\n",
    "ax.set_title('A PLOT',fontsize=17)\n",
    "ax.set_xlabel('Angle [rad]',fontsize=15)\n",
    "ax.set_ylabel('Voltage [mV]',fontsize=15)\n",
    "\n",
    "# Plot the actual elements\n",
    "ax.errorbar(x,y,yerr = y_err, xerr = x_err, color = 'C2',ms = 7, fmt = 'o',label='Experimental Data')\n",
    "ax.plot(xlin,fit(xlin,*params), color = 'black', lw = 2, label='Fit: a=%5.3f, b=%5.3f c=%5.3f'%tuple(params))\n",
    "\n",
    "ax.legend(fontsize = 14,loc='best',frameon=False)\n",
    "# ax.grid()"
   ]
  },
  {
   "cell_type": "code",
   "execution_count": null,
   "metadata": {},
   "outputs": [],
   "source": []
  }
 ],
 "metadata": {
  "kernelspec": {
   "display_name": "Python 3",
   "language": "python",
   "name": "python3"
  },
  "language_info": {
   "codemirror_mode": {
    "name": "ipython",
    "version": 3
   },
   "file_extension": ".py",
   "mimetype": "text/x-python",
   "name": "python",
   "nbconvert_exporter": "python",
   "pygments_lexer": "ipython3",
   "version": "3.8.2"
  }
 },
 "nbformat": 4,
 "nbformat_minor": 2
}
