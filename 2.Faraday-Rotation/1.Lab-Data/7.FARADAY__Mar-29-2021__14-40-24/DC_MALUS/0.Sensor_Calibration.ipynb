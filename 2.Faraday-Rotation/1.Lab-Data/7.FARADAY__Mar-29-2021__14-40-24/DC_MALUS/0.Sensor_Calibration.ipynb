{
 "cells": [
  {
   "cell_type": "markdown",
   "metadata": {},
   "source": [
    "# Sensor Calibration\n",
    "\n",
    "This is an attempt to calibrate for the intensity of the laser, using Malus' Data. This has important consequences in determining the verdet constants.\n",
    "\n",
    "Specifically, Malus' will give us a map of the intensity profile to the sensor. \n",
    "\n",
    "We know that at an incident power of 1mW the sensor generates a current of 0.6mA hence we can define the following relation:\n",
    "\n",
    "$$k_p = \\frac{0.6mA}{1mW}$$\n",
    "\n",
    "Hence the voltage generated from te sensor is:\n",
    "\n",
    "$$v_p = R k_p P(t)$$\n",
    "\n",
    "where R is the resistance across the sensor, and P(t) is the incident power\n",
    "\n",
    "We can use the diode equation to find the i-v characteristic of the photodiode.\n",
    "\n",
    "$$I = I_0 \\left( e^{V/V_0} - 1\\right) - I_p$$\n",
    "\n",
    "\n",
    "We can taylor expand around the center to find out about the photodiode"
   ]
  },
  {
   "cell_type": "code",
   "execution_count": null,
   "metadata": {},
   "outputs": [],
   "source": []
  }
 ],
 "metadata": {
  "kernelspec": {
   "display_name": "Python 3",
   "language": "python",
   "name": "python3"
  },
  "language_info": {
   "codemirror_mode": {
    "name": "ipython",
    "version": 3
   },
   "file_extension": ".py",
   "mimetype": "text/x-python",
   "name": "python",
   "nbconvert_exporter": "python",
   "pygments_lexer": "ipython3",
   "version": "3.8.2"
  }
 },
 "nbformat": 4,
 "nbformat_minor": 4
}
