{
 "cells": [
  {
   "cell_type": "markdown",
   "metadata": {},
   "source": [
    "# *FARADAY ROTATION* | Lab-Session #7\n",
    "## Apr-1-2021 13:45\n",
    "\n",
    "Here we perform the analysis of all the measurements"
   ]
  },
  {
   "cell_type": "code",
   "execution_count": 1,
   "metadata": {},
   "outputs": [],
   "source": [
    "# Import the relevant libraries\n",
    "import pandas as pd\n",
    "import numpy as np \n",
    "import matplotlib.pyplot as plt \n",
    "import scipy.constants as consts\n",
    "from tqdm import tqdm\n",
    "import os\n",
    "from csvlib import *\n",
    "from scipy.optimize import curve_fit\n",
    "\n",
    "# Display mpl in notebook format\n",
    "%matplotlib inline"
   ]
  },
  {
   "cell_type": "markdown",
   "metadata": {},
   "source": [
    "# Data Analysis\n",
    "\n",
    "Here are the functions we used to analyse our data"
   ]
  },
  {
   "cell_type": "code",
   "execution_count": 45,
   "metadata": {},
   "outputs": [],
   "source": [
    "# First we pick a data set using a folder name\n",
    "directory = 'AC_VERDET_ROD'     # Directory of the data\n",
    "angle_correction = 343.81\n",
    "angle_c          = angle_correction/180*np.pi\n",
    "pol_angle        = 3.896113 # degrees\n",
    "pol_angle_rad    = pol_angle/180*np.pi\n",
    "\n",
    "# Now define some parameters for the experiment\n",
    "params = {\n",
    "    'P_max'        : 1e-3,           # Laser source power in W\n",
    "    'R_sensor'     : 1e+3,           # Sensor Resistance in Ω\n",
    "    'K_sensor'     : 0.6,            # Sensor Responsivity in A/W\n",
    "    'G_preamp'     : 1,              # Preamplifier Gain\n",
    "    'G_filter'     : 1,              # Low Pass filter Gain\n",
    "    'G_lock_in'    : 1,              # Lock in Gain\n",
    "    'K_lock_in'    : 1/2,            # Lock in Constant\n",
    "    'G_lp_amp'     : 1,              # Lock in, low pass amplifier gain\n",
    "    'K_solenoid'   : 0.011,          # Solenoid constant in T/A\n",
    "    'Length'       : 1e-2,           # Material length in the solenoid in m\n",
    "    'Sigma_L'      : 1e-3,           # Uncertainty in Length\n",
    "}\n",
    "\n",
    "# print the setup file for this directory\n",
    "def print_setup(directory=directory):\n",
    "    file = open(directory+'/Setup.txt')\n",
    "    lines = file.readlines()\n",
    "    file.close\n",
    "    \n",
    "    for line in lines:\n",
    "        print(line,end='')\n",
    "\n",
    "# Returns a data frame for the measurements of that particular angle\n",
    "def get_angle(angle,directory=directory):\n",
    "    angle = int(angle)\n",
    "    data = pd.read_csv(directory+'/Angle-%d.csv'%angle)\n",
    "\n",
    "    return data.to_numpy().T\n",
    "\n",
    "# Get the raw data for voltage and amplitude\n",
    "def get_voltage_vs_amplitude(directory=directory):\n",
    "    data = pd.read_csv(directory+'/Voltage-Amplitude.csv'%angle)\n",
    "    return data.to_numpy().T\n",
    "\n",
    "# Returns average and standard deviation\n",
    "def get_stats(data):\n",
    "    return np.mean(data), np.std(data)\n",
    "\n",
    "# Returns a calculated data set with mean and stds for a set of angles\n",
    "def voltage_vs_angle(angles=np.linspace(0,360,360,dtype=int),directory=directory,channel=5):\n",
    "    V = []\n",
    "    V_std = []\n",
    "    \n",
    "    for angle in tqdm(angles):\n",
    "        data = get_angle(angle,directory=directory)\n",
    "        mean,std = get_stats(data[channel])\n",
    "\n",
    "        V.append(mean)\n",
    "        V_std.append(std)\n",
    "\n",
    "    return np.array(V),np.array(V_std),angles\n",
    "\n",
    "# get the raw data for the current among a list of angles\n",
    "def get_current_ac(angles=np.linspace(0,360,360,dtype=int),directory=directory,channel=1):\n",
    "    time  = np.array(get_angle(0)[0])\n",
    "    I     = np.zeros(time.shape)\n",
    "    I_std = np.zeros(time.shape)\n",
    "    \n",
    "    for angle in tqdm(angles):\n",
    "        data = get_angle(angle,directory=directory)\n",
    "        I += data[channel]\n",
    "    \n",
    "    I = np.array(I)/len(angles)\n",
    "    I_avg = np.mean(I)\n",
    "    \n",
    "    for angle in tqdm(angles):\n",
    "        data = get_angle(angle,directory=directory)\n",
    "        I_std += (np.array(data[channel]) - I_avg)**2\n",
    "    \n",
    "    I_std /= len(angles)\n",
    "    \n",
    "    return I, I_std**0.5, time\n",
    "\n",
    "\n",
    "\n",
    "# obtain the phase difference and verdet constant due to rotation from the signal amplitude plot\n",
    "def calc_verdet_ac(voltage,voltage_std,current,current_std,average=0.95,params=params):\n",
    "    # First calculate the phase shift from the amplitude of the signal\n",
    "    V_max = np.mean([abs(i) for i in voltage if abs(i)/max(voltage) >= average])\n",
    "    \n",
    "    Gain  = params['G_preamp']*params['G_filter']*params['G_lp_amp']*params['G_lock_in']\n",
    "    K     = params['K_sensor']\n",
    "    R     = params['R_sensor']\n",
    "    K_loc = params['K_lock_in']\n",
    "    P     = params['P_max']\n",
    "    cor   = params['Correction']\n",
    "    \n",
    "    # This is the phase shift\n",
    "    f = np.sqrt( 2 * V_max / (Gain * K * K_loc * R * P) )\n",
    "    Delta_phi = np.arcsin(f)*180/np.pi - cor\n",
    "    \n",
    "    # To get the phase uncertainty \n",
    "    sigma_V = (np.sum([voltage_std[i]**2 for i in range(len(voltage)) if abs(voltage[i])/max(voltage) >= average]))**0.5\n",
    "    sigma_phi = abs(sigma_V/( (1-f**2)**0.5 * f))\n",
    "    \n",
    "    \n",
    "    \n",
    "    # Now to get the Verdet constant\n",
    "    I_max = np.mean([abs(i) for i in current if abs(i)/max(current) >= average])\n",
    "    \n",
    "    B = params['K_solenoid'] * I_max\n",
    "    l = params['Length']\n",
    "    \n",
    "    Verdet = Delta_phi / (B * l)\n",
    "    \n",
    "    # To get the verdet uncertainty\n",
    "    sigma_I = (np.sum([current_std[i]**2 for i in range(len(current)) if abs(current[i])/max(current) >= average]))**0.5\n",
    "    sigma_I = abs(sigma_I * Verdet/I_max)\n",
    "    sigma_L = abs(params['Sigma_L']*Verdet/l)\n",
    "    \n",
    "    sigma_Verdet = (sigma_I**2 + sigma_L**2 + (sigma_phi/(B*l))**2 )**0.5\n",
    "    \n",
    "    # Return the two values\n",
    "    return Verdet, sigma_Verdet, Delta_phi, sigma_phi\n",
    "    \n",
    "\n",
    "# obtain the phase difference and verdet constant due to rotation from the signal amplitude plot\n",
    "def calc_verdet_dc(angle,voltage,voltage_std,current,current_std,average=0.95,params=params):\n",
    "    # Calculate delta phi\n",
    "    angles    = [angle[i]%90 for i in range(len(voltage)) if abs(voltage[i])/max(voltage) >= average]\n",
    "    Delta_phi = np.mean(angles) - 5\n",
    "    sigma_phi = np.std(angles)\n",
    "    print(angles)\n",
    "    \n",
    "    # Now to get the Verdet constant\n",
    "    I_max = current\n",
    "    \n",
    "    B = params['K_solenoid'] * I_max\n",
    "    l = params['Length']\n",
    "    \n",
    "    Verdet = Delta_phi / (B * l)\n",
    "    \n",
    "    # To get the verdet uncertainty\n",
    "    sigma_I = current_std\n",
    "    sigma_I = abs(sigma_I * Verdet/I_max)\n",
    "    sigma_L = abs(params['Sigma_L']*Verdet/l)\n",
    "    \n",
    "    sigma_Verdet = (sigma_I**2 + sigma_L**2 + (sigma_phi/(B*l))**2 )**0.5\n",
    "    \n",
    "    # Return the two values\n",
    "    return Verdet, sigma_Verdet, Delta_phi, sigma_phi\n",
    "    \n",
    "    \n",
    "    \n",
    "\n",
    "# Plot a voltage VS amplitude graph\n",
    "def plot_VA(angles=np.linspace(0,360,360,dtype=int),directory=directory,channel=5):\n",
    "    V,V_std,angles = voltage_vs_angle(directory=directory,channel=channel)\n",
    "\n",
    "    fig = plt.figure(figsize=(13,10))\n",
    "    ax = fig.add_subplot(111)\n",
    "    ax.errorbar(angles/180,V,yerr=V_std,color='deepskyblue',fmt='.',label='Raw Data')\n",
    "    \n",
    "    ax.set_xlim(min(angles)/180, max(angles)/180)\n",
    "    grid_x_major = np.arange(min(angles)/180, max(angles)/180, 0.4)\n",
    "    grid_x_minor = np.arange(min(angles)/180, max(angles)/180, 0.1)\n",
    "\n",
    "    ax.set_xticks(grid_x_major)\n",
    "    ax.set_xticks(grid_x_minor,minor=True)\n",
    "    ax.xaxis.grid(True, which='both')\n",
    "    ax.grid(which='minor', alpha=0.4, linestyle='--')\n",
    "    ax.tick_params(axis=\"both\",which=\"both\", direction=\"in\")\n",
    "\n",
    "    return fig,ax\n",
    "\n",
    "# Plot the lock in at a particular angle\n",
    "def plot_lock_in(angle,directory=directory):\n",
    "    data    = get_angle(angle,directory=directory)\n",
    "    time    = data[2]\n",
    "    lock_in = data[3]\n",
    "\n",
    "    fig = plt.figure(figsize=(13,5))\n",
    "    ax = fig.add_subplot(111)\n",
    "    ax.plot(time,lock_in,color='mediumseagreen')\n",
    "\n",
    "    return fig,ax"
   ]
  },
  {
   "cell_type": "markdown",
   "metadata": {},
   "source": [
    "# AC Verdet analyisis\n",
    "This will perform the analysis for the verdet constant of the ROD done using lock in amplification"
   ]
  },
  {
   "cell_type": "code",
   "execution_count": 46,
   "metadata": {
    "scrolled": false
   },
   "outputs": [
    {
     "name": "stderr",
     "output_type": "stream",
     "text": [
      "100%|██████████| 360/360 [00:01<00:00, 352.55it/s]\n",
      "100%|██████████| 360/360 [00:00<00:00, 373.16it/s]\n",
      "100%|██████████| 360/360 [00:00<00:00, 368.31it/s]\n",
      "100%|██████████| 360/360 [00:00<00:00, 382.60it/s]\n"
     ]
    },
    {
     "name": "stdout",
     "output_type": "stream",
     "text": [
      "V:\t 22.960382524620833 234.27144569604414\n",
      "φ:\t 0.9927193463089989 3.175545940398869\n"
     ]
    },
    {
     "data": {
      "image/png": "[encoded data removed]",
      "text/plain": [
       "<Figure size 936x720 with 1 Axes>"
      ]
     },
     "metadata": {
      "needs_background": "light"
     },
     "output_type": "display_data"
    }
   ],
   "source": [
    "# Set the directory with the measurements\n",
    "directory = 'AC_VERDET_ROD'\n",
    "\n",
    "# Set the parameters of the experiment\n",
    "params = {\n",
    "    'P_max'        : 1e-3,           # Laser source power in W\n",
    "    'R_sensor'     : 1e+3,           # Sensor Resistance in Ω\n",
    "    'K_sensor'     : 0.6,            # Sensor Responsivity in A/W\n",
    "    'G_preamp'     : 10,             # Preamplifier Gain\n",
    "    'G_filter'     : 1,              # Low Pass filter Gain\n",
    "    'G_lock_in'    : 20,             # Lock in Gain\n",
    "    'K_lock_in'    : 1/2,            # Lock in Constant\n",
    "    'G_lp_amp'     : 20,             # Lock in, low pass amplifier gain\n",
    "    'K_solenoid'   : 0.011,          # Solenoid constant in T/A\n",
    "    'Length'       : 10.175e-2,      # Material length in the solenoid in m\n",
    "    'Sigma_L'      : 0.005e-2,       # Uncertainty in Length in m\n",
    "    'Correction'   : pol_angle       # Correction angle to account for the difference of the polarizers\n",
    "}\n",
    "angles = np.linspace(0,360,360,dtype=int)\n",
    "\n",
    "# Get the relevant data\n",
    "voltage, voltage_std, angles = voltage_vs_angle(directory=directory)\n",
    "angles = np.linspace(0,angle_correction,360)\n",
    "voltage -= np.mean(voltage)\n",
    "current, current_std, time = get_current_ac(angles=angles,directory=directory)\n",
    "\n",
    "# print_setup(directory)          # Print the setup for the particular experiment\n",
    "\n",
    "# Plot the voltage VS angle curve\n",
    "fig,ax = plot_VA(angles=angles,directory=directory)\n",
    "\n",
    "# Calculate Verdet constant\n",
    "V,V_std, Phi,Phi_std = calc_verdet_ac(voltage,voltage_std,current,current_std,average=0.999,params=params)\n",
    "\n",
    "print(\"V:\\t\",V*np.pi/180,V_std*np.pi/180) # 21.0 rad/Tm\n",
    "print(\"φ:\\t\",Phi,Phi_std)"
   ]
  },
  {
   "cell_type": "code",
   "execution_count": null,
   "metadata": {},
   "outputs": [],
   "source": []
  },
  {
   "cell_type": "markdown",
   "metadata": {},
   "source": [
    "# DC Verdet Analysis\n",
    "\n",
    "Here we present the calculatiosn of the verdet constant for the DC experiments for the rod, providing the appropriate plots. "
   ]
  },
  {
   "cell_type": "code",
   "execution_count": 13,
   "metadata": {},
   "outputs": [
    {
     "name": "stderr",
     "output_type": "stream",
     "text": [
      "100%|██████████| 360/360 [00:00<00:00, 464.13it/s]\n",
      " 26%|██▋       | 95/360 [00:00<00:00, 468.68it/s]"
     ]
    },
    {
     "name": "stdout",
     "output_type": "stream",
     "text": [
      "VERDET Rod DC\n",
      "\n",
      "LENGTH:     10.175 ± 0.005 cm\n",
      "DC Current: 805.5 + 1.70 mA"
     ]
    },
    {
     "name": "stderr",
     "output_type": "stream",
     "text": [
      "100%|██████████| 360/360 [00:00<00:00, 464.70it/s]\n"
     ]
    },
    {
     "name": "stdout",
     "output_type": "stream",
     "text": [
      "[2, 3, 4, 5, 6, 7, 8, 9, 10, 11, 12, 13, 12, 13, 14, 15]\n",
      "V:\t 77.43632093770472 77.43650274419234\n",
      "φ:\t 4.0 4.0\n"
     ]
    },
    {
     "data": {
      "image/png": "[encoded data removed]",
      "text/plain": [
       "<Figure size 936x720 with 1 Axes>"
      ]
     },
     "metadata": {
      "needs_background": "light"
     },
     "output_type": "display_data"
    }
   ],
   "source": [
    "# Set the directory with the measurements\n",
    "directory = 'DC_VERDET_ROD'\n",
    "\n",
    "# Set the parameters of the experiment\n",
    "params = {\n",
    "    'P_max'        : 1e-3,           # Laser source power in W\n",
    "    'R_sensor'     : 1e+3,           # Sensor Resistance in Ω\n",
    "    'K_sensor'     : 0.6,            # Sensor Responsivity in A/W\n",
    "    'G_preamp'     : 1,              # Preamplifier Gain\n",
    "    'G_filter'     : 1,              # Low Pass filter Gain\n",
    "    'G_lock_in'    : 1,              # Lock in Gain\n",
    "    'K_lock_in'    : 1/2,            # Lock in Constant\n",
    "    'G_lp_amp'     : 1,              # Lock in, low pass amplifier gain\n",
    "    'K_solenoid'   : 0.011,          # Solenoid constant in T/A\n",
    "    'Length'       : 10.175e-2,      # Material length in the solenoid in m\n",
    "    'Sigma_L'      : 0.005e-2,       # Uncertainty in Length in m\n",
    "}\n",
    "current       = 805.5e-3             # DC Current in coil in A\n",
    "current_std   = 1.70e-3              # Uncertainty in current in mA\n",
    "angle         = np.linspace(0,360,360,dtype=int)\n",
    "channel       = 3\n",
    "\n",
    "# Get the relevant data\n",
    "voltage,voltage_std,angles = voltage_vs_angle(directory=directory,channel=channel)\n",
    "\n",
    "print_setup(directory)          # Print the setup for the particular experiment\n",
    "\n",
    "# Plot the voltage VS angle curve\n",
    "fig,ax = plot_VA(directory=directory,channel=3)\n",
    "\n",
    "# Calculate Verdet constant\n",
    "V,V_std, Phi,Phi_std = calc_verdet_dc(angle,voltage,voltage_std,current,current_std,average=0.99,params=params)\n",
    "\n",
    "print(\"V:\\t\",V*np.pi/180,V_std*np.pi/180) # 21.0 rad/Tm\n",
    "print(\"φ:\\t\",Phi,Phi_std)"
   ]
  }
 ],
 "metadata": {
  "kernelspec": {
   "display_name": "Python 3",
   "language": "python",
   "name": "python3"
  },
  "language_info": {
   "codemirror_mode": {
    "name": "ipython",
    "version": 3
   },
   "file_extension": ".py",
   "mimetype": "text/x-python",
   "name": "python",
   "nbconvert_exporter": "python",
   "pygments_lexer": "ipython3",
   "version": "3.8.2"
  }
 },
 "nbformat": 4,
 "nbformat_minor": 2
}
